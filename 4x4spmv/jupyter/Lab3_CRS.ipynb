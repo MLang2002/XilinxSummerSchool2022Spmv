{
 "cells": [
  {
   "cell_type": "markdown",
   "id": "2df271ae",
   "metadata": {},
   "source": [
    "## 准备工作"
   ]
  },
  {
   "cell_type": "markdown",
   "id": "210fbd69",
   "metadata": {},
   "source": [
    "生成稀疏矩阵"
   ]
  },
  {
   "cell_type": "code",
   "execution_count": 125,
   "id": "cc9d24df",
   "metadata": {},
   "outputs": [
    {
     "name": "stdout",
     "output_type": "stream",
     "text": [
      "Generate random matirx\n",
      "[[ 0  0  0  0]\n",
      " [ 0  0  0 10]\n",
      " [ 0  0  8  0]\n",
      " [ 0  0  0  0]]\n"
     ]
    }
   ],
   "source": [
    "import numpy as np\n",
    "import random\n",
    "sparse=0.35\n",
    "size=4 #生成方阵的大小：size*size\n",
    "matrix=np.arange(size*size).reshape(size,size)\n",
    "for i in range(len(matrix)):\n",
    "    for j in range(len(matrix[i])):\n",
    "        x=random.randint(0,100)\n",
    "        if x > (100*sparse):\n",
    "            matrix[i][j]=0\n",
    "        else:\n",
    "            matrix[i][j]=x+1\n",
    "print(\"Generate random matirx\")\n",
    "print(matrix)"
   ]
  },
  {
   "cell_type": "markdown",
   "id": "c0f3dec6",
   "metadata": {},
   "source": [
    "普通矩阵转CSR矩阵函数"
   ]
  },
  {
   "cell_type": "code",
   "execution_count": 126,
   "id": "03a25689",
   "metadata": {},
   "outputs": [],
   "source": [
    "# matrix to csr format\n",
    "def matrix2csr(matrix):\n",
    "    row_num=0\n",
    "    for i in range(len(matrix)):\n",
    "        for j in range(len(matrix[i])):\n",
    "            if matrix[i][j] != 0:\n",
    "                row_num+=1\n",
    "    values=[1]*row_num\n",
    "    columnIndex=[1]*row_num\n",
    "    rowPtr=[1]*(len(matrix)+1)\n",
    "    k=0\n",
    "    l=0\n",
    "    tmp_size=list(range(len(matrix)))\n",
    "    for i in tmp_size:\n",
    "        for j in tmp_size:\n",
    "            if j==0:\n",
    "                rowPtr[l]=k\n",
    "                l+=1\n",
    "            if matrix[i][j]!=0:\n",
    "                values[k]=matrix[i][j]\n",
    "                columnIndex[k]=j\n",
    "                k+=1\n",
    "    rowPtr[l]=row_num\n",
    "    return values,columnIndex,rowPtr"
   ]
  },
  {
   "cell_type": "markdown",
   "id": "4ffe0f7a",
   "metadata": {},
   "source": [
    "将普通稀疏矩阵转为CSR型稀疏矩阵"
   ]
  },
  {
   "cell_type": "code",
   "execution_count": 127,
   "id": "203a8ba5",
   "metadata": {},
   "outputs": [],
   "source": [
    "values=[]\n",
    "rowPtr=[]\n",
    "columnIndex=[]\n",
    "values,columnIndex,rowPtr=matrix2csr(matrix)"
   ]
  },
  {
   "cell_type": "markdown",
   "id": "703d34ae",
   "metadata": {},
   "source": [
    "生成随机向量"
   ]
  },
  {
   "cell_type": "code",
   "execution_count": 128,
   "id": "904bbe2b",
   "metadata": {},
   "outputs": [],
   "source": [
    "x=[1]*size\n",
    "for i in list(range(len(x))):\n",
    "    x[i]=random.randint(0,100)-20\n",
    "x=np.float32(x)\n",
    "values=np.float32(values)\n",
    "columnIndex=np.int32(columnIndex)\n",
    "rowPtr=np.int32(rowPtr)"
   ]
  },
  {
   "cell_type": "code",
   "execution_count": 129,
   "id": "4e08b141",
   "metadata": {},
   "outputs": [
    {
     "name": "stdout",
     "output_type": "stream",
     "text": [
      "随机向量：\n",
      "[73. 69. 75. 50.]\n",
      "数据数组：\n",
      "[10.  8.]\n",
      "列索引：\n",
      "[3 2]\n",
      "行索引：\n",
      "[0 0 1 2 2]\n"
     ]
    }
   ],
   "source": [
    "print(\"随机向量：\")\n",
    "print(x)\n",
    "print(\"数据数组：\")\n",
    "print(values)\n",
    "print(\"列索引：\")\n",
    "print(columnIndex)\n",
    "print(\"行索引：\")\n",
    "print(rowPtr)"
   ]
  },
  {
   "cell_type": "markdown",
   "id": "9b96d28e",
   "metadata": {},
   "source": [
    "## 加载Overlay模块"
   ]
  },
  {
   "cell_type": "code",
   "execution_count": 130,
   "id": "a6673d79",
   "metadata": {},
   "outputs": [],
   "source": [
    "from pynq import Overlay\n",
    "overlay = Overlay(\"./CRS2.bit\")\n",
    "CRS = overlay.spmv_wrap_0"
   ]
  },
  {
   "cell_type": "markdown",
   "id": "ff5b46b4",
   "metadata": {},
   "source": [
    "## 分配内存供IP使用"
   ]
  },
  {
   "cell_type": "code",
   "execution_count": 131,
   "id": "8f1a75f0",
   "metadata": {},
   "outputs": [],
   "source": [
    "from pynq import allocate\n",
    "values_buffer = allocate(shape=(len(values)), dtype=np.float32)\n",
    "columnIndex_buffer = allocate(shape=(len(columnIndex)), dtype=np.int32)\n",
    "rowPtr_buffer = allocate(shape=(len(rowPtr)), dtype=np.int32)\n",
    "output_buffer = allocate(shape=(4), dtype=np.float32)\n",
    "x_buffer = allocate(shape=(len(x)), dtype=np.float32)"
   ]
  },
  {
   "cell_type": "code",
   "execution_count": 132,
   "id": "f7f41d61",
   "metadata": {},
   "outputs": [],
   "source": [
    "np.copyto(values_buffer, np.float32(values))\n",
    "np.copyto(columnIndex_buffer, columnIndex)\n",
    "np.copyto(rowPtr_buffer, rowPtr)\n",
    "np.copyto(x_buffer, np.float32(x))"
   ]
  },
  {
   "cell_type": "code",
   "execution_count": 133,
   "id": "6c459def",
   "metadata": {},
   "outputs": [
    {
     "name": "stdout",
     "output_type": "stream",
     "text": [
      "随机向量：\n",
      "[73. 69. 75. 50.]\n",
      "数据数组：\n",
      "[10.  8.]\n",
      "列索引：\n",
      "[3 2]\n",
      "行索引：\n",
      "[0 0 1 2 2]\n"
     ]
    }
   ],
   "source": [
    "print(\"随机向量：\")\n",
    "print(x_buffer)\n",
    "print(\"数据数组：\")\n",
    "print(values_buffer)\n",
    "print(\"列索引：\")\n",
    "print(columnIndex_buffer)\n",
    "print(\"行索引：\")\n",
    "print(rowPtr_buffer)"
   ]
  },
  {
   "cell_type": "code",
   "execution_count": 134,
   "id": "ef7e020f",
   "metadata": {},
   "outputs": [],
   "source": [
    "CRS.s_axi_control.write(0x1c,columnIndex_buffer.physical_address)\n",
    "CRS.s_axi_control.write(0x10,rowPtr_buffer.physical_address)\n",
    "CRS.s_axi_control.write(0x28,values_buffer.physical_address)\n",
    "CRS.s_axi_control.write(0x40,x_buffer.physical_address)\n",
    "CRS.s_axi_control.write(0x34,output_buffer.physical_address)"
   ]
  },
  {
   "cell_type": "markdown",
   "id": "b3b3d4f7",
   "metadata": {},
   "source": [
    "## 启动IP"
   ]
  },
  {
   "cell_type": "code",
   "execution_count": 135,
   "id": "bddaf7dd",
   "metadata": {},
   "outputs": [],
   "source": [
    "import time\n",
    "CRS.s_axi_CTRL.write(0x00, 0x01)\n",
    "while True:\n",
    "    reg = CRS.s_axi_CTRL.read(0x00)\n",
    "    if reg != 1:\n",
    "        break"
   ]
  },
  {
   "cell_type": "markdown",
   "id": "e4b9895a",
   "metadata": {},
   "source": [
    "## 计算结果"
   ]
  },
  {
   "cell_type": "markdown",
   "id": "9b732654",
   "metadata": {},
   "source": [
    "IP计算结果"
   ]
  },
  {
   "cell_type": "code",
   "execution_count": 136,
   "id": "d47c9375",
   "metadata": {},
   "outputs": [
    {
     "name": "stdout",
     "output_type": "stream",
     "text": [
      "[  0. 500. 600.   0.]\n"
     ]
    }
   ],
   "source": [
    "print(output_buffer)"
   ]
  },
  {
   "cell_type": "markdown",
   "id": "70e0b070",
   "metadata": {},
   "source": [
    "正确计算答案"
   ]
  },
  {
   "cell_type": "code",
   "execution_count": 137,
   "id": "5f36b702",
   "metadata": {},
   "outputs": [],
   "source": [
    "result=np.dot(matrix, x)"
   ]
  },
  {
   "cell_type": "code",
   "execution_count": 138,
   "id": "e023e52a",
   "metadata": {},
   "outputs": [
    {
     "name": "stdout",
     "output_type": "stream",
     "text": [
      "[  0. 500. 600.   0.]\n"
     ]
    }
   ],
   "source": [
    "print(result)"
   ]
  },
  {
   "cell_type": "markdown",
   "id": "55e0a6a7",
   "metadata": {},
   "source": [
    "## 判断计算结果True或False"
   ]
  },
  {
   "cell_type": "code",
   "execution_count": 124,
   "id": "655adaa5",
   "metadata": {},
   "outputs": [
    {
     "name": "stdout",
     "output_type": "stream",
     "text": [
      "True\n"
     ]
    }
   ],
   "source": [
    "print((result==output_buffer).all() )"
   ]
  }
 ],
 "metadata": {
  "kernelspec": {
   "display_name": "Python 3",
   "language": "python",
   "name": "python3"
  },
  "language_info": {
   "codemirror_mode": {
    "name": "ipython",
    "version": 3
   },
   "file_extension": ".py",
   "mimetype": "text/x-python",
   "name": "python",
   "nbconvert_exporter": "python",
   "pygments_lexer": "ipython3",
   "version": "3.8.2"
  }
 },
 "nbformat": 4,
 "nbformat_minor": 5
}
